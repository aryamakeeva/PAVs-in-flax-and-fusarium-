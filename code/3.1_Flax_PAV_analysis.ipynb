{
 "cells": [
  {
   "cell_type": "code",
   "execution_count": 10,
   "id": "f16ba467",
   "metadata": {},
   "outputs": [],
   "source": [
    "import numpy as np\n",
    "import pandas as pd\n",
    "import matplotlib.pyplot as plt\n",
    "import seaborn as sns\n",
    "from matplotlib_venn import venn2"
   ]
  },
  {
   "cell_type": "markdown",
   "id": "5ef0bdd0",
   "metadata": {},
   "source": [
    "### Flax PAV analysis"
   ]
  },
  {
   "cell_type": "code",
   "execution_count": 11,
   "id": "a76daf22",
   "metadata": {},
   "outputs": [],
   "source": [
    "flax = pd.read_csv('../data/flax_matrix.tsv', sep='\\t', index_col=0)"
   ]
  },
  {
   "cell_type": "code",
   "execution_count": 12,
   "id": "dcdd4bfd",
   "metadata": {},
   "outputs": [
    {
     "data": {
      "text/html": [
       "<div>\n",
       "<style scoped>\n",
       "    .dataframe tbody tr th:only-of-type {\n",
       "        vertical-align: middle;\n",
       "    }\n",
       "\n",
       "    .dataframe tbody tr th {\n",
       "        vertical-align: top;\n",
       "    }\n",
       "\n",
       "    .dataframe thead th {\n",
       "        text-align: right;\n",
       "    }\n",
       "</style>\n",
       "<table border=\"1\" class=\"dataframe\">\n",
       "  <thead>\n",
       "    <tr style=\"text-align: right;\">\n",
       "      <th></th>\n",
       "      <th>AT_vs_LM98</th>\n",
       "      <th>AT_vs_LUv2</th>\n",
       "      <th>LM98_vs_AT</th>\n",
       "      <th>LM98_vs_LUv2</th>\n",
       "      <th>LUv2_vs_AT</th>\n",
       "      <th>LUv2_vs_LM98</th>\n",
       "    </tr>\n",
       "  </thead>\n",
       "  <tbody>\n",
       "    <tr>\n",
       "      <th>Lus10004456</th>\n",
       "      <td>1</td>\n",
       "      <td>1</td>\n",
       "      <td>1</td>\n",
       "      <td>1</td>\n",
       "      <td>1</td>\n",
       "      <td>1</td>\n",
       "    </tr>\n",
       "    <tr>\n",
       "      <th>Lus10015298</th>\n",
       "      <td>0</td>\n",
       "      <td>0</td>\n",
       "      <td>0</td>\n",
       "      <td>0</td>\n",
       "      <td>1</td>\n",
       "      <td>0</td>\n",
       "    </tr>\n",
       "    <tr>\n",
       "      <th>Lus10008347</th>\n",
       "      <td>1</td>\n",
       "      <td>0</td>\n",
       "      <td>1</td>\n",
       "      <td>1</td>\n",
       "      <td>1</td>\n",
       "      <td>1</td>\n",
       "    </tr>\n",
       "    <tr>\n",
       "      <th>Lus10001587</th>\n",
       "      <td>1</td>\n",
       "      <td>1</td>\n",
       "      <td>1</td>\n",
       "      <td>1</td>\n",
       "      <td>1</td>\n",
       "      <td>1</td>\n",
       "    </tr>\n",
       "    <tr>\n",
       "      <th>Lus10022434</th>\n",
       "      <td>1</td>\n",
       "      <td>1</td>\n",
       "      <td>1</td>\n",
       "      <td>1</td>\n",
       "      <td>1</td>\n",
       "      <td>0</td>\n",
       "    </tr>\n",
       "    <tr>\n",
       "      <th>...</th>\n",
       "      <td>...</td>\n",
       "      <td>...</td>\n",
       "      <td>...</td>\n",
       "      <td>...</td>\n",
       "      <td>...</td>\n",
       "      <td>...</td>\n",
       "    </tr>\n",
       "    <tr>\n",
       "      <th>Lus10007773</th>\n",
       "      <td>0</td>\n",
       "      <td>0</td>\n",
       "      <td>0</td>\n",
       "      <td>1</td>\n",
       "      <td>0</td>\n",
       "      <td>0</td>\n",
       "    </tr>\n",
       "    <tr>\n",
       "      <th>Lus10027107</th>\n",
       "      <td>0</td>\n",
       "      <td>0</td>\n",
       "      <td>0</td>\n",
       "      <td>1</td>\n",
       "      <td>0</td>\n",
       "      <td>0</td>\n",
       "    </tr>\n",
       "    <tr>\n",
       "      <th>Lus10040164</th>\n",
       "      <td>0</td>\n",
       "      <td>0</td>\n",
       "      <td>0</td>\n",
       "      <td>1</td>\n",
       "      <td>0</td>\n",
       "      <td>0</td>\n",
       "    </tr>\n",
       "    <tr>\n",
       "      <th>Lus10024314</th>\n",
       "      <td>0</td>\n",
       "      <td>0</td>\n",
       "      <td>0</td>\n",
       "      <td>1</td>\n",
       "      <td>0</td>\n",
       "      <td>0</td>\n",
       "    </tr>\n",
       "    <tr>\n",
       "      <th>Lus10018821</th>\n",
       "      <td>0</td>\n",
       "      <td>0</td>\n",
       "      <td>0</td>\n",
       "      <td>1</td>\n",
       "      <td>0</td>\n",
       "      <td>0</td>\n",
       "    </tr>\n",
       "  </tbody>\n",
       "</table>\n",
       "<p>36436 rows × 6 columns</p>\n",
       "</div>"
      ],
      "text/plain": [
       "             AT_vs_LM98  AT_vs_LUv2  LM98_vs_AT  LM98_vs_LUv2  LUv2_vs_AT  \\\n",
       "Lus10004456           1           1           1             1           1   \n",
       "Lus10015298           0           0           0             0           1   \n",
       "Lus10008347           1           0           1             1           1   \n",
       "Lus10001587           1           1           1             1           1   \n",
       "Lus10022434           1           1           1             1           1   \n",
       "...                 ...         ...         ...           ...         ...   \n",
       "Lus10007773           0           0           0             1           0   \n",
       "Lus10027107           0           0           0             1           0   \n",
       "Lus10040164           0           0           0             1           0   \n",
       "Lus10024314           0           0           0             1           0   \n",
       "Lus10018821           0           0           0             1           0   \n",
       "\n",
       "             LUv2_vs_LM98  \n",
       "Lus10004456             1  \n",
       "Lus10015298             0  \n",
       "Lus10008347             1  \n",
       "Lus10001587             1  \n",
       "Lus10022434             0  \n",
       "...                   ...  \n",
       "Lus10007773             0  \n",
       "Lus10027107             0  \n",
       "Lus10040164             0  \n",
       "Lus10024314             0  \n",
       "Lus10018821             0  \n",
       "\n",
       "[36436 rows x 6 columns]"
      ]
     },
     "execution_count": 12,
     "metadata": {},
     "output_type": "execute_result"
    }
   ],
   "source": [
    "flax"
   ]
  },
  {
   "cell_type": "code",
   "execution_count": 13,
   "id": "eba89c53",
   "metadata": {},
   "outputs": [
    {
     "name": "stdout",
     "output_type": "stream",
     "text": [
      "AT_vs_LM98      26897\n",
      "AT_vs_LUv2      18481\n",
      "LM98_vs_AT      23763\n",
      "LM98_vs_LUv2    23124\n",
      "LUv2_vs_AT       8147\n",
      "LUv2_vs_LM98    19786\n",
      "dtype: int64\n"
     ]
    }
   ],
   "source": [
    "column_sums = flax.sum()\n",
    "\n",
    "print(column_sums)"
   ]
  },
  {
   "cell_type": "markdown",
   "id": "7cf03323",
   "metadata": {},
   "source": [
    "Всего генов, которые есть в референсной аннотации: 36436 "
   ]
  },
  {
   "cell_type": "code",
   "execution_count": 14,
   "id": "daf94072",
   "metadata": {},
   "outputs": [
    {
     "data": {
      "image/png": "[encoded data removed]",
      "text/plain": [
       "<Figure size 800x600 with 1 Axes>"
      ]
     },
     "metadata": {},
     "output_type": "display_data"
    }
   ],
   "source": [
    "only_AT = flax[flax['AT_vs_LM98'] == 1].index\n",
    "only_LM98 = flax[flax['LM98_vs_AT'] == 1].index\n",
    "\n",
    "# Create sets for Venn diagram\n",
    "# Genes in AT: those unique to AT plus those present in both (not unique to LM98)\n",
    "# Genes in LM98: those unique to LM98 plus those present in both (not unique to AT)\n",
    "set_AT = set(only_AT)\n",
    "set_LM98 = set(only_LM98)\n",
    "\n",
    "plt.figure(figsize=(8, 6))\n",
    "venn = venn2([set_AT, set_LM98], set_labels=('AT', 'LM98'), set_colors=('#8da0cb', '#fc8d62'))\n",
    "\n",
    "for text in venn.set_labels:\n",
    "    if text: text.set_fontsize(20)  \n",
    "for text in venn.subset_labels:\n",
    "    if text: text.set_fontsize(18)  \n",
    "\n",
    "#plt.savefig('../imgs/AT_vs_LM98_venn.png', dpi=300)\n",
    "plt.show()"
   ]
  },
  {
   "cell_type": "code",
   "execution_count": 15,
   "id": "00c7d022",
   "metadata": {},
   "outputs": [
    {
     "name": "stdout",
     "output_type": "stream",
     "text": [
      "Number of genes unique to AT: 26897\n",
      "Number of genes unique to LM98: 23763\n",
      "\n",
      "First few rows of the unique genes table:\n",
      "          Gene Presence\n",
      "0  Lus10004456       AT\n",
      "1  Lus10008347       AT\n",
      "2  Lus10001587       AT\n",
      "3  Lus10022434       AT\n",
      "4  Lus10008783       AT\n"
     ]
    }
   ],
   "source": [
    "gene_list = []\n",
    "for gene in only_AT:\n",
    "    gene_list.append([gene, 'AT'])\n",
    "for gene in only_LM98:\n",
    "    gene_list.append([gene, 'LM98'])\n",
    "\n",
    "gene_df = pd.DataFrame(gene_list, columns=['Gene', 'Presence'])\n",
    "\n",
    "gene_df.to_csv('../data/flax_unique_genes_AT_LM98.csv', index=False)\n",
    "\n",
    "print(f\"Number of genes unique to AT: {len(only_AT)}\")\n",
    "print(f\"Number of genes unique to LM98: {len(only_LM98)}\")\n",
    "print(\"\\nFirst few rows of the unique genes table:\")\n",
    "print(gene_df.head())"
   ]
  },
  {
   "cell_type": "code",
   "execution_count": 16,
   "id": "d50f189a",
   "metadata": {},
   "outputs": [
    {
     "name": "stdout",
     "output_type": "stream",
     "text": [
      "Presence\n",
      "AT      9230\n",
      "LM98    6096\n",
      "Name: count, dtype: int64\n"
     ]
    }
   ],
   "source": [
    "genes_to_remove = gene_df.groupby('Gene')['Presence'].nunique()\n",
    "genes_to_remove = genes_to_remove[genes_to_remove > 1].index\n",
    "\n",
    "df_cleaned = gene_df[~gene_df['Gene'].isin(genes_to_remove)]\n",
    "\n",
    "presence_counts = df_cleaned['Presence'].value_counts()\n",
    "\n",
    "print(presence_counts)"
   ]
  }
 ],
 "metadata": {
  "kernelspec": {
   "display_name": "Python 3",
   "language": "python",
   "name": "python3"
  },
  "language_info": {
   "codemirror_mode": {
    "name": "ipython",
    "version": 3
   },
   "file_extension": ".py",
   "mimetype": "text/x-python",
   "name": "python",
   "nbconvert_exporter": "python",
   "pygments_lexer": "ipython3",
   "version": "3.10.12"
  }
 },
 "nbformat": 4,
 "nbformat_minor": 5
}
